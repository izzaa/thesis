{
 "cells": [
  {
   "cell_type": "code",
   "execution_count": 3,
   "metadata": {
    "collapsed": true
   },
   "outputs": [
    {
     "name": "stdout",
     "output_type": "stream",
     "text": [
      " 2.0743 \n",
      " 1.7333 \n",
      " 1.5785 \n",
      " 1.4607 \n",
      " 1.3663 \n",
      " 1.2806 \n",
      " 1.2040 \n",
      " 1.1387 \n",
      " 1.0765 \n",
      " 1.0206 \n",
      " 0.9649 \n",
      " 0.9187 \n",
      " 0.8728 \n",
      " 0.8245 \n",
      " 0.7907 \n",
      " 0.7503 \n",
      " 0.7109 \n",
      " 0.6726 \n",
      " 0.6405 \n",
      " 0.6101 \n",
      " 0.5816 \n",
      " 0.5492 \n",
      " 0.5348 \n",
      " 0.4993 \n",
      " 0.4763 \n",
      " 0.4476 \n",
      " 0.4287 \n",
      " 0.3977 \n",
      " 0.3895 \n",
      " 0.3661 \n",
      " 0.3332 \n",
      " 0.3212 \n",
      " 0.3156 \n",
      " 0.2931 \n",
      " 0.2778 \n",
      " 0.2647 \n",
      " 0.2436 \n",
      " 0.2362 \n",
      " 0.2195 \n",
      " 0.2079 \n",
      " 0.1949 \n",
      " 0.1808 \n",
      " 0.1834 \n",
      " 0.1699 \n",
      " 0.1583 \n",
      " 0.1613 \n",
      " 0.1527 \n",
      " 0.1452 \n",
      " 0.1272 \n",
      " 0.1377 \n",
      " 0.1305 \n",
      " 0.1186 \n",
      " 0.1166 \n",
      " 0.1091 \n",
      " 0.1089 \n",
      " 0.1050 \n",
      " 0.0848 \n",
      " 0.0993 \n",
      " 0.0833 \n",
      " 0.0782 \n",
      " 0.0821 \n",
      " 0.0851 \n",
      " 0.0818 \n",
      " 0.0794 \n",
      " 0.0717 \n",
      " 0.0688 \n",
      " 0.0754 \n",
      " 0.0643 \n",
      " 0.0739 \n",
      " 0.0596 \n",
      " 0.0539 \n",
      " 0.0563 \n",
      " 0.0536 \n",
      " 0.0471 \n",
      " 0.0562 \n",
      " 0.0560 \n",
      " 0.0531 \n",
      " 0.0424 \n",
      " 0.0393 \n",
      " 0.0578 \n",
      " 0.0493 \n",
      " 0.0399 \n",
      " 0.0404 \n",
      " 0.0484 \n",
      " 0.0414 \n",
      " 0.0447 \n",
      " 0.0430 \n",
      " 0.0431 \n",
      " 0.0356 \n",
      " 0.0313 \n",
      " 0.0391 \n",
      " 0.0324 \n",
      " 0.0313 \n",
      " 0.0313 \n",
      " 0.0328 \n",
      " 0.0410 \n",
      " 0.0276 \n",
      " 0.0264 \n",
      " 0.0293 \n",
      " 0.0212 \n"
     ]
    }
   ],
   "source": [
    "from __future__ import print_function\n",
    "from __future__ import division\n",
    "\n",
    "import sys\n",
    "import os\n",
    "import time\n",
    "import math\n",
    "\n",
    "import numpy as np\n",
    "\n",
    "with open('result/modified_cifar_100.txt', 'r') as f:\n",
    "    for line in f:\n",
    "        if \"loss:\" not in line:\n",
    "            continue\n",
    "        else:\n",
    "            loss = line.partition('loss:')[2]\n",
    "            loss = loss.partition('-')[0]\n",
    "            print(loss)\n",
    "       \n",
    "        if 'str' in line:\n",
    "            break"
   ]
  },
  {
   "cell_type": "code",
   "execution_count": 2,
   "metadata": {
    "collapsed": true
   },
   "outputs": [
    {
     "ename": "IOError",
     "evalue": "[Errno 2] No such file or directory: 'kaggle_diabetic/result/diabetic.txt'",
     "output_type": "error",
     "traceback": [
      "\u001b[0;31m---------------------------------------------------------------------------\u001b[0m",
      "\u001b[0;31mIOError\u001b[0m                                   Traceback (most recent call last)",
      "\u001b[0;32m<ipython-input-2-8dc2eb71df71>\u001b[0m in \u001b[0;36m<module>\u001b[0;34m()\u001b[0m\n\u001b[1;32m      9\u001b[0m \u001b[0;32mimport\u001b[0m \u001b[0mnumpy\u001b[0m \u001b[0;32mas\u001b[0m \u001b[0mnp\u001b[0m\u001b[0;34m\u001b[0m\u001b[0m\n\u001b[1;32m     10\u001b[0m \u001b[0;34m\u001b[0m\u001b[0m\n\u001b[0;32m---> 11\u001b[0;31m \u001b[0;32mwith\u001b[0m \u001b[0mopen\u001b[0m\u001b[0;34m(\u001b[0m\u001b[0;34m'kaggle_diabetic/result/diabetic.txt'\u001b[0m\u001b[0;34m,\u001b[0m \u001b[0;34m'r'\u001b[0m\u001b[0;34m)\u001b[0m \u001b[0;32mas\u001b[0m \u001b[0mf\u001b[0m\u001b[0;34m:\u001b[0m\u001b[0;34m\u001b[0m\u001b[0m\n\u001b[0m\u001b[1;32m     12\u001b[0m     \u001b[0;32mfor\u001b[0m \u001b[0mline\u001b[0m \u001b[0;32min\u001b[0m \u001b[0mf\u001b[0m\u001b[0;34m:\u001b[0m\u001b[0;34m\u001b[0m\u001b[0m\n\u001b[1;32m     13\u001b[0m         \u001b[0;32mif\u001b[0m \u001b[0;34m\"kappa\"\u001b[0m \u001b[0;32min\u001b[0m \u001b[0mline\u001b[0m\u001b[0;34m:\u001b[0m\u001b[0;34m\u001b[0m\u001b[0m\n",
      "\u001b[0;31mIOError\u001b[0m: [Errno 2] No such file or directory: 'kaggle_diabetic/result/diabetic.txt'"
     ]
    }
   ],
   "source": [
    "from __future__ import print_function\n",
    "from __future__ import division\n",
    "\n",
    "import sys\n",
    "import os\n",
    "import time\n",
    "import math\n",
    "\n",
    "import numpy as np\n",
    "\n",
    "with open('result/diabetic.txt', 'r') as f:\n",
    "    for line in f:\n",
    "        if \"kappa\" in line:\n",
    "            continue\n",
    "        else:\n",
    "            #epoch    train loss    valid loss    train/val    kappa  dur\n",
    "            val = line.split()[1]\n",
    "            print(val.replace('s', ''))\n",
    "       \n",
    "        if 'str' in line:\n",
    "            break"
   ]
  },
  {
   "cell_type": "code",
   "execution_count": 8,
   "metadata": {
    "collapsed": false
   },
   "outputs": [
    {
     "name": "stdout",
     "output_type": "stream",
     "text": [
      "0.427631623247\n"
     ]
    }
   ],
   "source": [
    "m = build_confusion_metrics()\n",
    "y_true, y_pred = generate_y(m)\n",
    "kappa = quadratic_weighted_kappa(y_true, y_pred)\n",
    "print(kappa)"
   ]
  },
  {
   "cell_type": "code",
   "execution_count": 39,
   "metadata": {
    "collapsed": false
   },
   "outputs": [],
   "source": [
    "import sklearn.metrics\n",
    "\n",
    "y_true = get_data('data/testLabels.csv')\n",
    "y_pred = get_data('data/best.csv')\n",
    "metrics = sklearn.metrics.confusion_matrix(y_true, y_pred)\n",
    "k = kappa(y_true, y_pred)"
   ]
  },
  {
   "cell_type": "code",
   "execution_count": 40,
   "metadata": {
    "collapsed": false
   },
   "outputs": [
    {
     "data": {
      "text/plain": [
       "array([[17697, 14613,  4323,  2481,   419],\n",
       "       [ 1707,  1333,   426,   252,    44],\n",
       "       [ 3596,  2837,   852,   489,    87],\n",
       "       [  546,   452,   123,    85,     8],\n",
       "       [  559,   427,   135,    76,     9]])"
      ]
     },
     "execution_count": 40,
     "metadata": {},
     "output_type": "execute_result"
    }
   ],
   "source": [
    "metrics"
   ]
  },
  {
   "cell_type": "code",
   "execution_count": 41,
   "metadata": {
    "collapsed": false
   },
   "outputs": [
    {
     "data": {
      "text/plain": [
       "-0.004306965657783435"
      ]
     },
     "execution_count": 41,
     "metadata": {},
     "output_type": "execute_result"
    }
   ],
   "source": [
    "k"
   ]
  },
  {
   "cell_type": "code",
   "execution_count": 38,
   "metadata": {
    "collapsed": false
   },
   "outputs": [],
   "source": [
    "from quadratic_weighted_kappa import quadratic_weighted_kappa\n",
    "\n",
    "def kappa(y_true, y_pred):\n",
    "    y_true = np.array(y_true)\n",
    "    y_pred = np.array(y_pred)\n",
    "    if len(y_true.shape) > 1 and y_true.shape[1] > 1:\n",
    "        y_true = y_true.dot(range(y_true.shape[1]))\n",
    "    if len(y_pred.shape) > 1 and y_pred.shape[1] > 1:\n",
    "        y_pred = y_pred.dot(range(y_pred.shape[1]))\n",
    "    try:\n",
    "        return quadratic_weighted_kappa(y_true, y_pred)\n",
    "    except IndexError:\n",
    "        return np.nan\n",
    "\n",
    "def get_predicted_classes(result, y_test):\n",
    "    predit_classes = np.empty([53576], dtype=np.uint8)\n",
    "    index = 0;\n",
    "    for sample in result:\n",
    "        predict_class = np.argmax(sample)\n",
    "        predit_classes[index] = predict_class\n",
    "        index += 1\n",
    "\n",
    "    expected_classes = np.empty([53576], dtype=np.uint8)\n",
    "    index = 0;\n",
    "    for sample in y_test:\n",
    "        predict_class = np.argmax(sample)\n",
    "        expected_classes[index] = predict_class\n",
    "        index += 1\n",
    "\n",
    "    return predit_classes, expected_classes\n",
    "\n",
    "def get_data(filename) :\n",
    "    y_pred = []\n",
    "    with open(filename, 'r') as f:\n",
    "        for line in f:\n",
    "            if \"level\" in line:\n",
    "                continue\n",
    "            else:\n",
    "                #epoch    train loss    valid loss    train/val    kappa  dur\n",
    "                val = int(line.split(',')[1])\n",
    "                y_pred.append(val)\n",
    "    #             print(val.replace('s', ''))\n",
    "\n",
    "            if 'str' in line:\n",
    "                break\n",
    "    return y_pred\n",
    "\n",
    "def generate_y(src) :\n",
    "    y_true = []\n",
    "    y_pred = []\n",
    "    for row_id in range(src.shape[0]) :        \n",
    "        for col_id in range(src.shape[1]) :\n",
    "            \n",
    "            if(row_id % 2 != 0 or col_id % 2 != 0) :\n",
    "                y_size = src[row_id][col_id]\n",
    "                \n",
    "                for i in range(y_size) :\n",
    "                    y_true.append(row_id)\n",
    "                    y_pred.append(col_id)\n",
    "    return y_true, y_pred\n",
    "\n",
    "def build_confusion_metrics() :\n",
    "    a = [3456, 0, 145, 1, 34]\n",
    "    b = [344, 0, 27, 0, 1]\n",
    "    c = [543, 0, 179, 5, 40]\n",
    "    d = [40, 0, 63, 10, 15]\n",
    "    e = [28, 0, 23, 3, 43]\n",
    "    \n",
    "#     a = [17697, 14613, 4323, 2481, 419]\n",
    "#     b = [1707, 1333, 426, 252, 44]\n",
    "#     c = [3596, 2837, 852, 489, 87]\n",
    "#     d = [546, 452, 123, 85, 8]\n",
    "#     e = [559, 427, 135, 76, 9]\n",
    "    \n",
    "    \n",
    "    return np.array([a, b, c, d, e])"
   ]
  }
 ],
 "metadata": {
  "kernelspec": {
   "display_name": "Python 2",
   "language": "python",
   "name": "python2"
  },
  "language_info": {
   "codemirror_mode": {
    "name": "ipython",
    "version": 2
   },
   "file_extension": ".py",
   "mimetype": "text/x-python",
   "name": "python",
   "nbconvert_exporter": "python",
   "pygments_lexer": "ipython2",
   "version": "2.7.6"
  }
 },
 "nbformat": 4,
 "nbformat_minor": 0
}
