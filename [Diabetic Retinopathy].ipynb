{
 "cells": [
  {
   "cell_type": "code",
   "execution_count": 1,
   "metadata": {
    "collapsed": false
   },
   "outputs": [
    {
     "name": "stderr",
     "output_type": "stream",
     "text": [
      "Using TensorFlow backend.\n"
     ]
    },
    {
     "ename": "RuntimeError",
     "evalue": "module compiled against API version 0xa but this version of numpy is 0x9",
     "traceback": [
      "\u001b[0;31m---------------------------------------------------------------------------\u001b[0m",
      "\u001b[0;31mRuntimeError\u001b[0m                              Traceback (most recent call last)",
      "\u001b[0;31mRuntimeError\u001b[0m: module compiled against API version 0xa but this version of numpy is 0x9"
     ],
     "output_type": "error"
    },
    {
     "ename": "ImportError",
     "evalue": "Traceback (most recent call last):\n  File \"/usr/local/lib/python2.7/dist-packages/tensorflow/python/__init__.py\", line 61, in <module>\n    from tensorflow.python import pywrap_tensorflow\n  File \"/usr/local/lib/python2.7/dist-packages/tensorflow/python/pywrap_tensorflow.py\", line 28, in <module>\n    _pywrap_tensorflow = swig_import_helper()\n  File \"/usr/local/lib/python2.7/dist-packages/tensorflow/python/pywrap_tensorflow.py\", line 24, in swig_import_helper\n    _mod = imp.load_module('_pywrap_tensorflow', fp, pathname, description)\nImportError: numpy.core.multiarray failed to import\n\n\nFailed to load the native TensorFlow runtime.\n\nSee https://github.com/tensorflow/tensorflow/blob/master/tensorflow/g3doc/get_started/os_setup.md#import_error\n\nfor some common reasons and solutions.  Include the entire stack trace\nabove this error message when asking for help.",
     "traceback": [
      "\u001b[0;31m---------------------------------------------------------------------------\u001b[0m",
      "\u001b[0;31mImportError\u001b[0m                               Traceback (most recent call last)",
      "\u001b[0;32m<ipython-input-1-dcab959967d5>\u001b[0m in \u001b[0;36m<module>\u001b[0;34m()\u001b[0m\n\u001b[1;32m      2\u001b[0m \u001b[0;32mfrom\u001b[0m \u001b[0m__future__\u001b[0m \u001b[0;32mimport\u001b[0m \u001b[0mprint_function\u001b[0m\u001b[0;34m\u001b[0m\u001b[0m\n\u001b[1;32m      3\u001b[0m \u001b[0;34m\u001b[0m\u001b[0m\n\u001b[0;32m----> 4\u001b[0;31m \u001b[0;32mfrom\u001b[0m \u001b[0mresnet_helper\u001b[0m \u001b[0;32mimport\u001b[0m \u001b[0;34m*\u001b[0m\u001b[0;34m\u001b[0m\u001b[0m\n\u001b[0m\u001b[1;32m      5\u001b[0m \u001b[0;32mfrom\u001b[0m \u001b[0mresnet_structure\u001b[0m \u001b[0;32mimport\u001b[0m \u001b[0;34m*\u001b[0m\u001b[0;34m\u001b[0m\u001b[0m\n",
      "\u001b[0;32m/home/izza/bismillah/kaggle_diabetic/resnet_helper.py\u001b[0m in \u001b[0;36m<module>\u001b[0;34m()\u001b[0m\n\u001b[1;32m      1\u001b[0m \u001b[0;32mfrom\u001b[0m \u001b[0m__future__\u001b[0m \u001b[0;32mimport\u001b[0m \u001b[0mprint_function\u001b[0m\u001b[0;34m\u001b[0m\u001b[0m\n\u001b[0;32m----> 2\u001b[0;31m \u001b[0;32mfrom\u001b[0m \u001b[0mkeras\u001b[0m\u001b[0;34m.\u001b[0m\u001b[0mcallbacks\u001b[0m \u001b[0;32mimport\u001b[0m \u001b[0mEarlyStopping\u001b[0m\u001b[0;34m,\u001b[0m \u001b[0mModelCheckpoint\u001b[0m\u001b[0;34m\u001b[0m\u001b[0m\n\u001b[0m\u001b[1;32m      3\u001b[0m \u001b[0;32mfrom\u001b[0m \u001b[0mkeras\u001b[0m\u001b[0;34m.\u001b[0m\u001b[0mlayers\u001b[0m \u001b[0;32mimport\u001b[0m \u001b[0mmerge\u001b[0m\u001b[0;34m,\u001b[0m \u001b[0mDropout\u001b[0m\u001b[0;34m\u001b[0m\u001b[0m\n\u001b[1;32m      4\u001b[0m \u001b[0;32mfrom\u001b[0m \u001b[0mkeras\u001b[0m\u001b[0;34m.\u001b[0m\u001b[0mlayers\u001b[0m\u001b[0;34m.\u001b[0m\u001b[0mconvolutional\u001b[0m \u001b[0;32mimport\u001b[0m \u001b[0mConvolution2D\u001b[0m\u001b[0;34m,\u001b[0m \u001b[0mConvolution3D\u001b[0m\u001b[0;34m,\u001b[0m \u001b[0mMaxPooling2D\u001b[0m\u001b[0;34m,\u001b[0m \u001b[0mMaxPooling3D\u001b[0m\u001b[0;34m,\u001b[0m \u001b[0mZeroPadding2D\u001b[0m\u001b[0;34m,\u001b[0m \u001b[0mZeroPadding3D\u001b[0m\u001b[0;34m,\u001b[0m \u001b[0mAveragePooling2D\u001b[0m\u001b[0;34m,\u001b[0m \u001b[0mAveragePooling3D\u001b[0m\u001b[0;34m\u001b[0m\u001b[0m\n\u001b[1;32m      5\u001b[0m \u001b[0;32mfrom\u001b[0m \u001b[0mkeras\u001b[0m\u001b[0;34m.\u001b[0m\u001b[0mlayers\u001b[0m\u001b[0;34m.\u001b[0m\u001b[0mcore\u001b[0m \u001b[0;32mimport\u001b[0m \u001b[0mDense\u001b[0m\u001b[0;34m,\u001b[0m \u001b[0mActivation\u001b[0m\u001b[0;34m,\u001b[0m \u001b[0mFlatten\u001b[0m\u001b[0;34m,\u001b[0m \u001b[0mDropout\u001b[0m\u001b[0;34m\u001b[0m\u001b[0m\n",
      "\u001b[0;32m/usr/local/lib/python2.7/dist-packages/Keras-1.0.8-py2.7.egg/keras/__init__.py\u001b[0m in \u001b[0;36m<module>\u001b[0;34m()\u001b[0m\n",
      "\u001b[0;32m/usr/local/lib/python2.7/dist-packages/Keras-1.0.8-py2.7.egg/keras/backend/__init__.py\u001b[0m in \u001b[0;36m<module>\u001b[0;34m()\u001b[0m\n",
      "\u001b[0;32m/usr/local/lib/python2.7/dist-packages/Keras-1.0.8-py2.7.egg/keras/backend/tensorflow_backend.py\u001b[0m in \u001b[0;36m<module>\u001b[0;34m()\u001b[0m\n",
      "\u001b[0;32m/usr/local/lib/python2.7/dist-packages/tensorflow/__init__.py\u001b[0m in \u001b[0;36m<module>\u001b[0;34m()\u001b[0m\n\u001b[1;32m     22\u001b[0m \u001b[0;34m\u001b[0m\u001b[0m\n\u001b[1;32m     23\u001b[0m \u001b[0;31m# pylint: disable=wildcard-import\u001b[0m\u001b[0;34m\u001b[0m\u001b[0;34m\u001b[0m\u001b[0m\n\u001b[0;32m---> 24\u001b[0;31m \u001b[0;32mfrom\u001b[0m \u001b[0mtensorflow\u001b[0m\u001b[0;34m.\u001b[0m\u001b[0mpython\u001b[0m \u001b[0;32mimport\u001b[0m \u001b[0;34m*\u001b[0m\u001b[0;34m\u001b[0m\u001b[0m\n\u001b[0m\u001b[1;32m     25\u001b[0m \u001b[0;31m# pylint: enable=wildcard-import\u001b[0m\u001b[0;34m\u001b[0m\u001b[0;34m\u001b[0m\u001b[0m\n\u001b[1;32m     26\u001b[0m \u001b[0;34m\u001b[0m\u001b[0m\n",
      "\u001b[0;32m/usr/local/lib/python2.7/dist-packages/tensorflow/python/__init__.py\u001b[0m in \u001b[0;36m<module>\u001b[0;34m()\u001b[0m\n\u001b[1;32m     70\u001b[0m \u001b[0;32mfor\u001b[0m \u001b[0msome\u001b[0m \u001b[0mcommon\u001b[0m \u001b[0mreasons\u001b[0m \u001b[0;32mand\u001b[0m \u001b[0msolutions\u001b[0m\u001b[0;34m.\u001b[0m  \u001b[0mInclude\u001b[0m \u001b[0mthe\u001b[0m \u001b[0mentire\u001b[0m \u001b[0mstack\u001b[0m \u001b[0mtrace\u001b[0m\u001b[0;34m\u001b[0m\u001b[0m\n\u001b[1;32m     71\u001b[0m above this error message when asking for help.\"\"\" % traceback.format_exc()\n\u001b[0;32m---> 72\u001b[0;31m   \u001b[0;32mraise\u001b[0m \u001b[0mImportError\u001b[0m\u001b[0;34m(\u001b[0m\u001b[0mmsg\u001b[0m\u001b[0;34m)\u001b[0m\u001b[0;34m\u001b[0m\u001b[0m\n\u001b[0m\u001b[1;32m     73\u001b[0m \u001b[0;34m\u001b[0m\u001b[0m\n\u001b[1;32m     74\u001b[0m \u001b[0;31m# Protocol buffers\u001b[0m\u001b[0;34m\u001b[0m\u001b[0;34m\u001b[0m\u001b[0m\n",
      "\u001b[0;31mImportError\u001b[0m: Traceback (most recent call last):\n  File \"/usr/local/lib/python2.7/dist-packages/tensorflow/python/__init__.py\", line 61, in <module>\n    from tensorflow.python import pywrap_tensorflow\n  File \"/usr/local/lib/python2.7/dist-packages/tensorflow/python/pywrap_tensorflow.py\", line 28, in <module>\n    _pywrap_tensorflow = swig_import_helper()\n  File \"/usr/local/lib/python2.7/dist-packages/tensorflow/python/pywrap_tensorflow.py\", line 24, in swig_import_helper\n    _mod = imp.load_module('_pywrap_tensorflow', fp, pathname, description)\nImportError: numpy.core.multiarray failed to import\n\n\nFailed to load the native TensorFlow runtime.\n\nSee https://github.com/tensorflow/tensorflow/blob/master/tensorflow/g3doc/get_started/os_setup.md#import_error\n\nfor some common reasons and solutions.  Include the entire stack trace\nabove this error message when asking for help."
     ],
     "output_type": "error"
    }
   ],
   "source": [
    "# mogrify -path /home/izza/bismillah/dataset/train256 -resize \"256x256^\" -gravity center -crop 256x256+0+0 +repage *.jpeg\n",
    "from __future__ import print_function\n",
    "\n",
    "from resnet_helper import *\n",
    "from resnet_structure import *"
   ]
  },
  {
   "cell_type": "code",
   "execution_count": 2,
   "metadata": {
    "collapsed": false
   },
   "outputs": [
    {
     "name": "stdout",
     "output_type": "stream",
     "text": [
      "____________________________________________________________________________________________________\n",
      "Layer (type)                     Output Shape          Param #     Connected to                     \n",
      "====================================================================================================\n",
      "input_1 (InputLayer)             (None, 3, 512, 512)   0                                            \n",
      "____________________________________________________________________________________________________\n",
      "convolution2d_1 (Convolution2D)  (None, 32, 510, 510)  896         input_1[0][0]                    \n",
      "____________________________________________________________________________________________________\n",
      "batchnormalization_1 (BatchNormal(None, 32, 510, 510)  64          convolution2d_1[0][0]            \n",
      "____________________________________________________________________________________________________\n",
      "activation_1 (Activation)        (None, 32, 510, 510)  0           batchnormalization_1[0][0]       \n",
      "____________________________________________________________________________________________________\n",
      "maxpooling2d_1 (MaxPooling2D)    (None, 32, 254, 254)  0           activation_1[0][0]               \n",
      "____________________________________________________________________________________________________\n",
      "convolution2d_2 (Convolution2D)  (None, 32, 252, 252)  9248        maxpooling2d_1[0][0]             \n",
      "____________________________________________________________________________________________________\n",
      "batchnormalization_2 (BatchNormal(None, 32, 252, 252)  64          convolution2d_2[0][0]            \n",
      "____________________________________________________________________________________________________\n",
      "activation_2 (Activation)        (None, 32, 252, 252)  0           batchnormalization_2[0][0]       \n",
      "____________________________________________________________________________________________________\n",
      "maxpooling2d_2 (MaxPooling2D)    (None, 32, 125, 125)  0           activation_2[0][0]               \n",
      "____________________________________________________________________________________________________\n",
      "convolution2d_3 (Convolution2D)  (None, 64, 123, 123)  18496       maxpooling2d_2[0][0]             \n",
      "____________________________________________________________________________________________________\n",
      "batchnormalization_3 (BatchNormal(None, 64, 123, 123)  128         convolution2d_3[0][0]            \n",
      "____________________________________________________________________________________________________\n",
      "activation_3 (Activation)        (None, 64, 123, 123)  0           batchnormalization_3[0][0]       \n",
      "____________________________________________________________________________________________________\n",
      "maxpooling2d_3 (MaxPooling2D)    (None, 64, 61, 61)    0           activation_3[0][0]               \n",
      "____________________________________________________________________________________________________\n",
      "convolution2d_4 (Convolution2D)  (None, 64, 59, 59)    36928       maxpooling2d_3[0][0]             \n",
      "____________________________________________________________________________________________________\n",
      "batchnormalization_4 (BatchNormal(None, 64, 59, 59)    128         convolution2d_4[0][0]            \n",
      "____________________________________________________________________________________________________\n",
      "activation_4 (Activation)        (None, 64, 59, 59)    0           batchnormalization_4[0][0]       \n",
      "____________________________________________________________________________________________________\n",
      "maxpooling2d_4 (MaxPooling2D)    (None, 64, 29, 29)    0           activation_4[0][0]               \n",
      "____________________________________________________________________________________________________\n",
      "convolution2d_5 (Convolution2D)  (None, 128, 27, 27)   73856       maxpooling2d_4[0][0]             \n",
      "____________________________________________________________________________________________________\n",
      "batchnormalization_5 (BatchNormal(None, 128, 27, 27)   256         convolution2d_5[0][0]            \n",
      "____________________________________________________________________________________________________\n",
      "activation_5 (Activation)        (None, 128, 27, 27)   0           batchnormalization_5[0][0]       \n",
      "____________________________________________________________________________________________________\n",
      "maxpooling2d_5 (MaxPooling2D)    (None, 128, 13, 13)   0           activation_5[0][0]               \n",
      "____________________________________________________________________________________________________\n",
      "convolution2d_6 (Convolution2D)  (None, 128, 11, 11)   147584      maxpooling2d_5[0][0]             \n",
      "____________________________________________________________________________________________________\n",
      "batchnormalization_6 (BatchNormal(None, 128, 11, 11)   256         convolution2d_6[0][0]            \n",
      "____________________________________________________________________________________________________\n",
      "activation_6 (Activation)        (None, 128, 11, 11)   0           batchnormalization_6[0][0]       \n",
      "____________________________________________________________________________________________________\n",
      "maxpooling2d_6 (MaxPooling2D)    (None, 128, 5, 5)     0           activation_6[0][0]               \n",
      "____________________________________________________________________________________________________\n",
      "convolution2d_7 (Convolution2D)  (None, 256, 3, 3)     295168      maxpooling2d_6[0][0]             \n",
      "____________________________________________________________________________________________________\n",
      "activation_7 (Activation)        (None, 256, 3, 3)     0           convolution2d_7[0][0]            \n",
      "____________________________________________________________________________________________________\n",
      "convolution2d_8 (Convolution2D)  (None, 256, 1, 1)     590080      activation_7[0][0]               \n",
      "____________________________________________________________________________________________________\n",
      "batchnormalization_7 (BatchNormal(None, 256, 1, 1)     512         convolution2d_8[0][0]            \n",
      "____________________________________________________________________________________________________\n",
      "activation_8 (Activation)        (None, 256, 1, 1)     0           batchnormalization_7[0][0]       \n",
      "____________________________________________________________________________________________________\n",
      "convolution2d_9 (Convolution2D)  (None, 512, -1, -1)   1180160     activation_8[0][0]               \n",
      "____________________________________________________________________________________________________\n",
      "activation_9 (Activation)        (None, 512, -1, -1)   0           convolution2d_9[0][0]            \n",
      "____________________________________________________________________________________________________\n",
      "convolution2d_10 (Convolution2D) (None, 512, -3, -3)   2359808     activation_9[0][0]               \n",
      "____________________________________________________________________________________________________\n",
      "batchnormalization_8 (BatchNormal(None, 512, -3, -3)   1024        convolution2d_10[0][0]           \n",
      "____________________________________________________________________________________________________\n",
      "activation_10 (Activation)       (None, 512, -3, -3)   0           batchnormalization_8[0][0]       \n",
      "____________________________________________________________________________________________________\n",
      "flatten_1 (Flatten)              (None, 4608)          0           activation_10[0][0]              \n",
      "____________________________________________________________________________________________________\n",
      "fc1 (Dense)                      (None, 1024)          4719616     flatten_1[0][0]                  \n",
      "____________________________________________________________________________________________________\n",
      "dropout_1 (Dropout)              (None, 1024)          0           fc1[0][0]                        \n",
      "____________________________________________________________________________________________________\n",
      "fc2 (Dense)                      (None, 1024)          1049600     dropout_1[0][0]                  \n",
      "____________________________________________________________________________________________________\n",
      "dropout_2 (Dropout)              (None, 1024)          0           fc2[0][0]                        \n",
      "____________________________________________________________________________________________________\n",
      "fc5 (Dense)                      (None, 10)            10250       dropout_2[0][0]                  \n",
      "====================================================================================================\n",
      "Total params: 10494122\n",
      "____________________________________________________________________________________________________\n"
     ]
    }
   ],
   "source": [
    "model = get_shallow_net(512, 10, K.image_dim_ordering())\n",
    "optimizer = SGD(lr = 0.01, momentum = 0.0, decay = 0.0, nesterov = True)\n",
    "model.compile(loss='categorical_crossentropy', optimizer = optimizer, metrics = ['accuracy'])\n",
    "model.summary()"
   ]
  },
  {
   "cell_type": "code",
   "execution_count": 5,
   "metadata": {
    "collapsed": false,
    "scrolled": true
   },
   "outputs": [
    {
     "name": "stdout",
     "output_type": "stream",
     "text": [
      "size[1 1 1 ..., 4 4 4]\n",
      "dataset loaded total dataset 35126\n",
      "size[1 1 1 ..., 4 4 4]\n",
      "dataset loaded total dataset 53576\n"
     ]
    }
   ],
   "source": [
    "# X_train, y_train = load_dataset(\"splitted_train224\", preprocess=True, categorical=True, zoom=False, shuffle=True)\n",
    "# X_test, y_test = load_dataset(\"splitted_test224\", preprocess=True, categorical=True, shuffle=True)\n",
    "\n",
    "X_train, y_train = load_dataset(\"diabetic/data/train_tiff\", preprocess=True, categorical=True, zoom=False, shuffle=True)\n",
    "X_test, y_test = load_dataset(\"diabetic/data/test_tiff\", preprocess=True, categorical=True, shuffle=True)"
   ]
  },
  {
   "cell_type": "code",
   "execution_count": 6,
   "metadata": {
    "collapsed": false
   },
   "outputs": [],
   "source": [
    "X_data = np.concatenate((X_train, X_test), axis=0)\n",
    "y_data = np.concatenate((y_train, y_test), axis=0)"
   ]
  },
  {
   "cell_type": "code",
   "execution_count": 7,
   "metadata": {
    "collapsed": false
   },
   "outputs": [],
   "source": [
    "# metrics_param = ['accuracy', recall_metrics, precision_metrics, f1_metrics, true_positives]\n",
    "metrics_param = ['accuracy']\n",
    "resnet_model = get_modified_resnet() \n",
    "optimizer = SGD(lr = 0.0001, momentum = 0.9, decay = 0.9, nesterov = True)\n",
    "resnet_model.compile(loss='categorical_crossentropy', optimizer = optimizer, metrics = metrics_param)"
   ]
  },
  {
   "cell_type": "code",
   "execution_count": 2,
   "metadata": {
    "collapsed": false
   },
   "outputs": [],
   "source": [
    "callbacks = [\n",
    "    EarlyStopping(monitor='loss', patience=5, verbose=0),\n",
    "    ModelCheckpoint(filepath=\"result/v2_rotate_00001_momentum_decay_extreme.hdf5\", monitor='loss', verbose=0, save_best_only=True, save_weights_only=False)\n",
    "]\n",
    "\n",
    "for i in range(0, 100) :\n",
    "    for degree in range(0, 360, 36) :\n",
    "        X_train = rotate_dataset(X_data, degree)\n",
    "        resnet_model.fit(X_data, y_data, nb_epoch=1, class_weight={0:1, 1:14, 2:7, 3:42, 4:46}, validation_split=0.2, callbacks=callbacks)                   \n",
    "    resnet_model.save(\"v2_rotate_00001_momentum_decay_extreme.h5\")"
   ]
  },
  {
   "cell_type": "markdown",
   "metadata": {},
   "source": [
    "# CIFAR"
   ]
  },
  {
   "cell_type": "code",
   "execution_count": 5,
   "metadata": {
    "collapsed": false
   },
   "outputs": [],
   "source": [
    "from keras.datasets import cifar10\n",
    "from keras.utils import *\n",
    "\n",
    "(X_train, y_train), (X_test, y_test) = cifar10.load_data()\n",
    "y_train = to_categorical(y_train)\n",
    "y_test  = to_categorical(y_test)"
   ]
  },
  {
   "cell_type": "code",
   "execution_count": 3,
   "metadata": {
    "collapsed": true
   },
   "outputs": [
    {
     "name": "stdout",
     "output_type": "stream",
     "text": [
      "1\n",
      "1\n",
      "____________________________________________________________________________________________________\n",
      "Layer (type)                     Output Shape          Param #     Connected to                     \n",
      "====================================================================================================\n",
      "input_2 (InputLayer)             (None, 3, 32, 32)     0                                            \n",
      "____________________________________________________________________________________________________\n",
      "zeropadding2d_1 (ZeroPadding2D)  (None, 3, 38, 38)     0           input_2[0][0]                    \n",
      "____________________________________________________________________________________________________\n",
      "conv1 (Convolution2D)            (None, 64, 16, 16)    9472        zeropadding2d_1[0][0]            \n",
      "____________________________________________________________________________________________________\n",
      "bn_conv1 (BatchNormalization)    (None, 64, 16, 16)    128         conv1[0][0]                      \n",
      "____________________________________________________________________________________________________\n",
      "activation_11 (Activation)       (None, 64, 16, 16)    0           bn_conv1[0][0]                   \n",
      "____________________________________________________________________________________________________\n",
      "maxpooling2d_7 (MaxPooling2D)    (None, 64, 7, 7)      0           activation_11[0][0]              \n",
      "____________________________________________________________________________________________________\n",
      "res2a_branch2a (Convolution2D)   (None, 64, 7, 7)      4160        maxpooling2d_7[0][0]             \n",
      "____________________________________________________________________________________________________\n",
      "bn2a_branch2a (BatchNormalization(None, 64, 7, 7)      128         res2a_branch2a[0][0]             \n",
      "____________________________________________________________________________________________________\n",
      "activation_12 (Activation)       (None, 64, 7, 7)      0           bn2a_branch2a[0][0]              \n",
      "____________________________________________________________________________________________________\n",
      "res2a_branch2b (Convolution2D)   (None, 64, 7, 7)      36928       activation_12[0][0]              \n",
      "____________________________________________________________________________________________________\n",
      "bn2a_branch2b (BatchNormalization(None, 64, 7, 7)      128         res2a_branch2b[0][0]             \n",
      "____________________________________________________________________________________________________\n",
      "activation_13 (Activation)       (None, 64, 7, 7)      0           bn2a_branch2b[0][0]              \n",
      "____________________________________________________________________________________________________\n",
      "res2a_branch2c (Convolution2D)   (None, 256, 7, 7)     16640       activation_13[0][0]              \n",
      "____________________________________________________________________________________________________\n",
      "res2a_branch1 (Convolution2D)    (None, 256, 7, 7)     16640       maxpooling2d_7[0][0]             \n",
      "____________________________________________________________________________________________________\n",
      "bn2a_branch2c (BatchNormalization(None, 256, 7, 7)     512         res2a_branch2c[0][0]             \n",
      "____________________________________________________________________________________________________\n",
      "bn2a_branch1 (BatchNormalization)(None, 256, 7, 7)     512         res2a_branch1[0][0]              \n",
      "____________________________________________________________________________________________________\n",
      "merge_1 (Merge)                  (None, 256, 7, 7)     0           bn2a_branch2c[0][0]              \n",
      "                                                                   bn2a_branch1[0][0]               \n",
      "____________________________________________________________________________________________________\n",
      "activation_14 (Activation)       (None, 256, 7, 7)     0           merge_1[0][0]                    \n",
      "____________________________________________________________________________________________________\n",
      "res2b_branch2a (Convolution2D)   (None, 64, 4, 4)      16448       activation_14[0][0]              \n",
      "____________________________________________________________________________________________________\n",
      "bn2b_branch2a (BatchNormalization(None, 64, 4, 4)      128         res2b_branch2a[0][0]             \n",
      "____________________________________________________________________________________________________\n",
      "activation_15 (Activation)       (None, 64, 4, 4)      0           bn2b_branch2a[0][0]              \n",
      "____________________________________________________________________________________________________\n",
      "res2b_branch2b_1 (Convolution2D) (None, 64, 4, 4)      36928       activation_15[0][0]              \n",
      "____________________________________________________________________________________________________\n",
      "bn2b_branch2b (BatchNormalization(None, 64, 4, 4)      128         res2b_branch2b_1[0][0]           \n",
      "____________________________________________________________________________________________________\n",
      "activation_16 (Activation)       (None, 64, 4, 4)      0           bn2b_branch2b[0][0]              \n",
      "____________________________________________________________________________________________________\n",
      "res2b_branch2c (Convolution2D)   (None, 256, 4, 4)     16640       activation_16[0][0]              \n",
      "____________________________________________________________________________________________________\n",
      "bn2b_branch2c (BatchNormalization(None, 256, 4, 4)     512         res2b_branch2c[0][0]             \n",
      "____________________________________________________________________________________________________\n",
      "res2b_branch_1_pool (AveragePooli(None, 256, 4, 4)     0           bn2b_branch2c[0][0]              \n",
      "____________________________________________________________________________________________________\n",
      "res2b_branch3_1x1 (Convolution2D)(None, 256, 4, 4)     65792       bn2b_branch2c[0][0]              \n",
      "____________________________________________________________________________________________________\n",
      "res2b_branch5_1x1 (Convolution2D)(None, 256, 4, 4)     65792       bn2b_branch2c[0][0]              \n",
      "____________________________________________________________________________________________________\n",
      "res2b_branch_1 (Convolution2D)   (None, 256, 4, 4)     65792       bn2b_branch2c[0][0]              \n",
      "____________________________________________________________________________________________________\n",
      "res2b_branch1_1x1 (Convolution2D)(None, 256, 4, 4)     65792       res2b_branch_1_pool[0][0]        \n",
      "____________________________________________________________________________________________________\n",
      "res2b_branch3_3x3 (Convolution2D)(None, 256, 4, 4)     590080      res2b_branch3_1x1[0][0]          \n",
      "____________________________________________________________________________________________________\n",
      "res2b_branch5_5x5 (Convolution2D)(None, 256, 4, 4)     1638656     res2b_branch5_1x1[0][0]          \n",
      "____________________________________________________________________________________________________\n",
      "merge_2 (Merge)                  (None, 1024, 4, 4)    0           res2b_branch_1[0][0]             \n",
      "                                                                   res2b_branch1_1x1[0][0]          \n",
      "                                                                   res2b_branch3_3x3[0][0]          \n",
      "                                                                   res2b_branch5_5x5[0][0]          \n",
      "____________________________________________________________________________________________________\n",
      "merge_3 (Merge)                  (None, 1280, 4, 4)    0           bn2b_branch2c[0][0]              \n",
      "                                                                   merge_2[0][0]                    \n",
      "____________________________________________________________________________________________________\n",
      "activation_17 (Activation)       (None, 1280, 4, 4)    0           merge_3[0][0]                    \n",
      "____________________________________________________________________________________________________\n",
      "res3a_branch2a (Convolution2D)   (None, 128, 2, 2)     163968      activation_17[0][0]              \n",
      "____________________________________________________________________________________________________\n",
      "bn3a_branch2a (BatchNormalization(None, 128, 2, 2)     256         res3a_branch2a[0][0]             \n",
      "____________________________________________________________________________________________________\n",
      "activation_18 (Activation)       (None, 128, 2, 2)     0           bn3a_branch2a[0][0]              \n",
      "____________________________________________________________________________________________________\n",
      "res3a_branch2b (Convolution2D)   (None, 128, 2, 2)     147584      activation_18[0][0]              \n",
      "____________________________________________________________________________________________________\n",
      "bn3a_branch2b (BatchNormalization(None, 128, 2, 2)     256         res3a_branch2b[0][0]             \n",
      "____________________________________________________________________________________________________\n",
      "activation_19 (Activation)       (None, 128, 2, 2)     0           bn3a_branch2b[0][0]              \n",
      "____________________________________________________________________________________________________\n",
      "res3a_branch2c (Convolution2D)   (None, 512, 2, 2)     66048       activation_19[0][0]              \n",
      "____________________________________________________________________________________________________\n",
      "res3a_branch1 (Convolution2D)    (None, 512, 2, 2)     655872      activation_17[0][0]              \n",
      "____________________________________________________________________________________________________\n",
      "bn3a_branch2c (BatchNormalization(None, 512, 2, 2)     1024        res3a_branch2c[0][0]             \n",
      "____________________________________________________________________________________________________\n",
      "bn3a_branch1 (BatchNormalization)(None, 512, 2, 2)     1024        res3a_branch1[0][0]              \n",
      "____________________________________________________________________________________________________\n",
      "merge_4 (Merge)                  (None, 512, 2, 2)     0           bn3a_branch2c[0][0]              \n",
      "                                                                   bn3a_branch1[0][0]               \n",
      "____________________________________________________________________________________________________\n",
      "activation_20 (Activation)       (None, 512, 2, 2)     0           merge_4[0][0]                    \n",
      "____________________________________________________________________________________________________\n",
      "res3b_branch2a (Convolution2D)   (None, 128, 1, 1)     65664       activation_20[0][0]              \n",
      "____________________________________________________________________________________________________\n",
      "bn3b_branch2a (BatchNormalization(None, 128, 1, 1)     256         res3b_branch2a[0][0]             \n",
      "____________________________________________________________________________________________________\n",
      "activation_21 (Activation)       (None, 128, 1, 1)     0           bn3b_branch2a[0][0]              \n",
      "____________________________________________________________________________________________________\n",
      "res3b_branch2b_1 (Convolution2D) (None, 128, 1, 1)     147584      activation_21[0][0]              \n",
      "____________________________________________________________________________________________________\n",
      "bn3b_branch2b (BatchNormalization(None, 128, 1, 1)     256         res3b_branch2b_1[0][0]           \n",
      "____________________________________________________________________________________________________\n",
      "activation_22 (Activation)       (None, 128, 1, 1)     0           bn3b_branch2b[0][0]              \n",
      "____________________________________________________________________________________________________\n",
      "res3b_branch2c (Convolution2D)   (None, 512, 1, 1)     66048       activation_22[0][0]              \n",
      "____________________________________________________________________________________________________\n",
      "bn3b_branch2c (BatchNormalization(None, 512, 1, 1)     1024        res3b_branch2c[0][0]             \n",
      "____________________________________________________________________________________________________\n",
      "res3b_branch_1_pool (AveragePooli(None, 512, 1, 1)     0           bn3b_branch2c[0][0]              \n",
      "____________________________________________________________________________________________________\n",
      "res3b_branch3_1x1 (Convolution2D)(None, 512, 1, 1)     262656      bn3b_branch2c[0][0]              \n",
      "____________________________________________________________________________________________________\n",
      "res3b_branch5_1x1 (Convolution2D)(None, 512, 1, 1)     262656      bn3b_branch2c[0][0]              \n",
      "____________________________________________________________________________________________________\n",
      "res3b_branch_1 (Convolution2D)   (None, 512, 1, 1)     262656      bn3b_branch2c[0][0]              \n",
      "____________________________________________________________________________________________________\n",
      "res3b_branch1_1x1 (Convolution2D)(None, 512, 1, 1)     262656      res3b_branch_1_pool[0][0]        \n",
      "____________________________________________________________________________________________________\n",
      "res3b_branch3_3x3 (Convolution2D)(None, 512, 1, 1)     2359808     res3b_branch3_1x1[0][0]          \n",
      "____________________________________________________________________________________________________\n",
      "res3b_branch5_5x5 (Convolution2D)(None, 512, 1, 1)     6554112     res3b_branch5_1x1[0][0]          \n",
      "____________________________________________________________________________________________________\n",
      "merge_5 (Merge)                  (None, 2048, 1, 1)    0           res3b_branch_1[0][0]             \n",
      "                                                                   res3b_branch1_1x1[0][0]          \n",
      "                                                                   res3b_branch3_3x3[0][0]          \n",
      "                                                                   res3b_branch5_5x5[0][0]          \n",
      "____________________________________________________________________________________________________\n",
      "merge_6 (Merge)                  (None, 2560, 1, 1)    0           bn3b_branch2c[0][0]              \n",
      "                                                                   merge_5[0][0]                    \n",
      "____________________________________________________________________________________________________\n",
      "activation_23 (Activation)       (None, 2560, 1, 1)    0           merge_6[0][0]                    \n",
      "____________________________________________________________________________________________________\n",
      "flatten_2 (Flatten)              (None, 2560)          0           activation_23[0][0]              \n",
      "____________________________________________________________________________________________________\n",
      "fc1000 (Dense)                   (None, 1000)          2561000     flatten_2[0][0]                  \n",
      "____________________________________________________________________________________________________\n",
      "dropout_3 (Dropout)              (None, 1000)          0           fc1000[0][0]                     \n",
      "____________________________________________________________________________________________________\n",
      "fc500 (Dense)                    (None, 500)           500500      dropout_3[0][0]                  \n",
      "____________________________________________________________________________________________________\n",
      "dropout_4 (Dropout)              (None, 500)           0           fc500[0][0]                      \n",
      "____________________________________________________________________________________________________\n",
      "fc100 (Dense)                    (None, 100)           50100       dropout_4[0][0]                  \n",
      "____________________________________________________________________________________________________\n",
      "dropout_5 (Dropout)              (None, 100)           0           fc100[0][0]                      \n",
      "____________________________________________________________________________________________________\n",
      "fc5 (Dense)                      (None, 10)            1010        dropout_5[0][0]                  \n",
      "====================================================================================================\n",
      "Total params: 17041954\n",
      "____________________________________________________________________________________________________\n"
     ]
    }
   ],
   "source": [
    "resnet_model = get_modified_resnet(32, 10, K.image_dim_ordering(), origin=True, inception=True) #9562146 17041954\n",
    "optimizer = SGD(lr = 0.01, momentum = 0.0, decay = 0.0, nesterov = True)\n",
    "resnet_model.compile(loss='categorical_crossentropy', optimizer = optimizer, metrics = ['accuracy'])\n",
    "resnet_model.summary()\n",
    "\n",
    "callbacks = [\n",
    "#     EarlyStopping(monitor='loss', patience=5, verbose=0),\n",
    "    ModelCheckpoint(filepath=\"../result/cifar.hdf5\", monitor='loss', verbose=0, save_best_only=True, save_weights_only=False)\n",
    "]"
   ]
  },
  {
   "cell_type": "code",
   "execution_count": 8,
   "metadata": {
    "collapsed": false
   },
   "outputs": [
    {
     "name": "stdout",
     "output_type": "stream",
     "text": [
      "Epoch 1/100\n"
     ]
    },
    {
     "ename": "NotImplementedError",
     "evalue": "\nApply node that caused the error: AveragePoolGrad{ds=(3, 3), ignore_border=True, st=(1, 1), padding=(1, 1), mode='average_exc_pad'}(Elemwise{Composite{Switch(i0, ((i1 * i2) + i3), ((i4 * i5) + i3))}}.0, IncSubtensor{InplaceInc;::, ::, :int64:, :int64:}.0)\nToposort index: 1106\nInputs types: [TensorType(float32, 4D), TensorType(float32, 4D)]\nInputs shapes: [(32, 512, 1, 1), (32, 512, 1, 1)]\nInputs strides: [(2048, 4, 4, 4), (2048, 4, 4, 4)]\nInputs values: ['not shown', 'not shown']\nOutputs clients: [[Elemwise{Add}[(0, 0)](CorrMM_gradInputs{half, (1, 1)}.0, CorrMM_gradInputs{half, (1, 1)}.0, AveragePoolGrad{ds=(3, 3), ignore_border=True, st=(1, 1), padding=(1, 1), mode='average_exc_pad'}.0, Split{2}.0, CorrMM_gradInputs{half, (1, 1)}.0)]]\n\nBacktrace when the node is created(use Theano flag traceback.limit=N to make it longer):\n  File \"/usr/local/lib/python2.7/dist-packages/theano/gradient.py\", line 1279, in access_grad_cache\n    term = access_term_cache(node)[idx]\n  File \"/usr/local/lib/python2.7/dist-packages/theano/gradient.py\", line 973, in access_term_cache\n    output_grads = [access_grad_cache(var) for var in node.outputs]\n  File \"/usr/local/lib/python2.7/dist-packages/theano/gradient.py\", line 1279, in access_grad_cache\n    term = access_term_cache(node)[idx]\n  File \"/usr/local/lib/python2.7/dist-packages/theano/gradient.py\", line 973, in access_term_cache\n    output_grads = [access_grad_cache(var) for var in node.outputs]\n  File \"/usr/local/lib/python2.7/dist-packages/theano/gradient.py\", line 1279, in access_grad_cache\n    term = access_term_cache(node)[idx]\n  File \"/usr/local/lib/python2.7/dist-packages/theano/gradient.py\", line 973, in access_term_cache\n    output_grads = [access_grad_cache(var) for var in node.outputs]\n  File \"/usr/local/lib/python2.7/dist-packages/theano/gradient.py\", line 1279, in access_grad_cache\n    term = access_term_cache(node)[idx]\n  File \"/usr/local/lib/python2.7/dist-packages/theano/gradient.py\", line 1113, in access_term_cache\n    input_grads = node.op.grad(inputs, new_output_grads)\n\nHINT: Use the Theano flag 'exception_verbosity=high' for a debugprint and storage map footprint of this apply node.",
     "traceback": [
      "\u001b[0;31m---------------------------------------------------------------------------\u001b[0m",
      "\u001b[0;31mNotImplementedError\u001b[0m                       Traceback (most recent call last)",
      "\u001b[0;32m<ipython-input-8-82a7fe11f2d8>\u001b[0m in \u001b[0;36m<module>\u001b[0;34m()\u001b[0m\n\u001b[0;32m----> 1\u001b[0;31m \u001b[0mresnet_model\u001b[0m\u001b[0;34m.\u001b[0m\u001b[0mfit\u001b[0m\u001b[0;34m(\u001b[0m\u001b[0mX_train\u001b[0m\u001b[0;34m,\u001b[0m \u001b[0my_train\u001b[0m\u001b[0;34m,\u001b[0m \u001b[0mnb_epoch\u001b[0m\u001b[0;34m=\u001b[0m\u001b[0;36m100\u001b[0m\u001b[0;34m,\u001b[0m \u001b[0mcallbacks\u001b[0m\u001b[0;34m=\u001b[0m\u001b[0mcallbacks\u001b[0m\u001b[0;34m)\u001b[0m\u001b[0;34m\u001b[0m\u001b[0m\n\u001b[0m\u001b[1;32m      2\u001b[0m \u001b[0mresnet_model\u001b[0m\u001b[0;34m.\u001b[0m\u001b[0msave\u001b[0m\u001b[0;34m(\u001b[0m\u001b[0;34m\"../cifar.h5\"\u001b[0m\u001b[0;34m)\u001b[0m\u001b[0;34m\u001b[0m\u001b[0m\n",
      "\u001b[0;32m/usr/local/lib/python2.7/dist-packages/Keras-1.0.8-py2.7.egg/keras/engine/training.pyc\u001b[0m in \u001b[0;36mfit\u001b[0;34m(self, x, y, batch_size, nb_epoch, verbose, callbacks, validation_split, validation_data, shuffle, class_weight, sample_weight)\u001b[0m\n",
      "\u001b[0;32m/usr/local/lib/python2.7/dist-packages/Keras-1.0.8-py2.7.egg/keras/engine/training.pyc\u001b[0m in \u001b[0;36m_fit_loop\u001b[0;34m(self, f, ins, out_labels, batch_size, nb_epoch, verbose, callbacks, val_f, val_ins, shuffle, callback_metrics)\u001b[0m\n",
      "\u001b[0;32m/usr/local/lib/python2.7/dist-packages/Keras-1.0.8-py2.7.egg/keras/backend/theano_backend.pyc\u001b[0m in \u001b[0;36m__call__\u001b[0;34m(self, inputs)\u001b[0m\n",
      "\u001b[0;32m/usr/local/lib/python2.7/dist-packages/theano/compile/function_module.pyc\u001b[0m in \u001b[0;36m__call__\u001b[0;34m(self, *args, **kwargs)\u001b[0m\n\u001b[1;32m    869\u001b[0m                     \u001b[0mnode\u001b[0m\u001b[0;34m=\u001b[0m\u001b[0mself\u001b[0m\u001b[0;34m.\u001b[0m\u001b[0mfn\u001b[0m\u001b[0;34m.\u001b[0m\u001b[0mnodes\u001b[0m\u001b[0;34m[\u001b[0m\u001b[0mself\u001b[0m\u001b[0;34m.\u001b[0m\u001b[0mfn\u001b[0m\u001b[0;34m.\u001b[0m\u001b[0mposition_of_error\u001b[0m\u001b[0;34m]\u001b[0m\u001b[0;34m,\u001b[0m\u001b[0;34m\u001b[0m\u001b[0m\n\u001b[1;32m    870\u001b[0m                     \u001b[0mthunk\u001b[0m\u001b[0;34m=\u001b[0m\u001b[0mthunk\u001b[0m\u001b[0;34m,\u001b[0m\u001b[0;34m\u001b[0m\u001b[0m\n\u001b[0;32m--> 871\u001b[0;31m                     storage_map=getattr(self.fn, 'storage_map', None))\n\u001b[0m\u001b[1;32m    872\u001b[0m             \u001b[0;32melse\u001b[0m\u001b[0;34m:\u001b[0m\u001b[0;34m\u001b[0m\u001b[0m\n\u001b[1;32m    873\u001b[0m                 \u001b[0;31m# old-style linkers raise their own exceptions\u001b[0m\u001b[0;34m\u001b[0m\u001b[0;34m\u001b[0m\u001b[0m\n",
      "\u001b[0;32m/usr/local/lib/python2.7/dist-packages/theano/gof/link.pyc\u001b[0m in \u001b[0;36mraise_with_op\u001b[0;34m(node, thunk, exc_info, storage_map)\u001b[0m\n\u001b[1;32m    312\u001b[0m         \u001b[0;31m# extra long error message in that case.\u001b[0m\u001b[0;34m\u001b[0m\u001b[0;34m\u001b[0m\u001b[0m\n\u001b[1;32m    313\u001b[0m         \u001b[0;32mpass\u001b[0m\u001b[0;34m\u001b[0m\u001b[0m\n\u001b[0;32m--> 314\u001b[0;31m     \u001b[0mreraise\u001b[0m\u001b[0;34m(\u001b[0m\u001b[0mexc_type\u001b[0m\u001b[0;34m,\u001b[0m \u001b[0mexc_value\u001b[0m\u001b[0;34m,\u001b[0m \u001b[0mexc_trace\u001b[0m\u001b[0;34m)\u001b[0m\u001b[0;34m\u001b[0m\u001b[0m\n\u001b[0m\u001b[1;32m    315\u001b[0m \u001b[0;34m\u001b[0m\u001b[0m\n\u001b[1;32m    316\u001b[0m \u001b[0;34m\u001b[0m\u001b[0m\n",
      "\u001b[0;32m/usr/local/lib/python2.7/dist-packages/theano/compile/function_module.pyc\u001b[0m in \u001b[0;36m__call__\u001b[0;34m(self, *args, **kwargs)\u001b[0m\n\u001b[1;32m    857\u001b[0m         \u001b[0mt0_fn\u001b[0m \u001b[0;34m=\u001b[0m \u001b[0mtime\u001b[0m\u001b[0;34m.\u001b[0m\u001b[0mtime\u001b[0m\u001b[0;34m(\u001b[0m\u001b[0;34m)\u001b[0m\u001b[0;34m\u001b[0m\u001b[0m\n\u001b[1;32m    858\u001b[0m         \u001b[0;32mtry\u001b[0m\u001b[0;34m:\u001b[0m\u001b[0;34m\u001b[0m\u001b[0m\n\u001b[0;32m--> 859\u001b[0;31m             \u001b[0moutputs\u001b[0m \u001b[0;34m=\u001b[0m \u001b[0mself\u001b[0m\u001b[0;34m.\u001b[0m\u001b[0mfn\u001b[0m\u001b[0;34m(\u001b[0m\u001b[0;34m)\u001b[0m\u001b[0;34m\u001b[0m\u001b[0m\n\u001b[0m\u001b[1;32m    860\u001b[0m         \u001b[0;32mexcept\u001b[0m \u001b[0mException\u001b[0m\u001b[0;34m:\u001b[0m\u001b[0;34m\u001b[0m\u001b[0m\n\u001b[1;32m    861\u001b[0m             \u001b[0;32mif\u001b[0m \u001b[0mhasattr\u001b[0m\u001b[0;34m(\u001b[0m\u001b[0mself\u001b[0m\u001b[0;34m.\u001b[0m\u001b[0mfn\u001b[0m\u001b[0;34m,\u001b[0m \u001b[0;34m'position_of_error'\u001b[0m\u001b[0;34m)\u001b[0m\u001b[0;34m:\u001b[0m\u001b[0;34m\u001b[0m\u001b[0m\n",
      "\u001b[0;32m/usr/local/lib/python2.7/dist-packages/theano/gof/op.pyc\u001b[0m in \u001b[0;36mrval\u001b[0;34m(p, i, o, n)\u001b[0m\n\u001b[1;32m    910\u001b[0m             \u001b[0;31m# default arguments are stored in the closure of `rval`\u001b[0m\u001b[0;34m\u001b[0m\u001b[0;34m\u001b[0m\u001b[0m\n\u001b[1;32m    911\u001b[0m             \u001b[0;32mdef\u001b[0m \u001b[0mrval\u001b[0m\u001b[0;34m(\u001b[0m\u001b[0mp\u001b[0m\u001b[0;34m=\u001b[0m\u001b[0mp\u001b[0m\u001b[0;34m,\u001b[0m \u001b[0mi\u001b[0m\u001b[0;34m=\u001b[0m\u001b[0mnode_input_storage\u001b[0m\u001b[0;34m,\u001b[0m \u001b[0mo\u001b[0m\u001b[0;34m=\u001b[0m\u001b[0mnode_output_storage\u001b[0m\u001b[0;34m,\u001b[0m \u001b[0mn\u001b[0m\u001b[0;34m=\u001b[0m\u001b[0mnode\u001b[0m\u001b[0;34m)\u001b[0m\u001b[0;34m:\u001b[0m\u001b[0;34m\u001b[0m\u001b[0m\n\u001b[0;32m--> 912\u001b[0;31m                 \u001b[0mr\u001b[0m \u001b[0;34m=\u001b[0m \u001b[0mp\u001b[0m\u001b[0;34m(\u001b[0m\u001b[0mn\u001b[0m\u001b[0;34m,\u001b[0m \u001b[0;34m[\u001b[0m\u001b[0mx\u001b[0m\u001b[0;34m[\u001b[0m\u001b[0;36m0\u001b[0m\u001b[0;34m]\u001b[0m \u001b[0;32mfor\u001b[0m \u001b[0mx\u001b[0m \u001b[0;32min\u001b[0m \u001b[0mi\u001b[0m\u001b[0;34m]\u001b[0m\u001b[0;34m,\u001b[0m \u001b[0mo\u001b[0m\u001b[0;34m)\u001b[0m\u001b[0;34m\u001b[0m\u001b[0m\n\u001b[0m\u001b[1;32m    913\u001b[0m                 \u001b[0;32mfor\u001b[0m \u001b[0mo\u001b[0m \u001b[0;32min\u001b[0m \u001b[0mnode\u001b[0m\u001b[0;34m.\u001b[0m\u001b[0moutputs\u001b[0m\u001b[0;34m:\u001b[0m\u001b[0;34m\u001b[0m\u001b[0m\n\u001b[1;32m    914\u001b[0m                     \u001b[0mcompute_map\u001b[0m\u001b[0;34m[\u001b[0m\u001b[0mo\u001b[0m\u001b[0;34m]\u001b[0m\u001b[0;34m[\u001b[0m\u001b[0;36m0\u001b[0m\u001b[0;34m]\u001b[0m \u001b[0;34m=\u001b[0m \u001b[0mTrue\u001b[0m\u001b[0;34m\u001b[0m\u001b[0m\n",
      "\u001b[0;32m/usr/local/lib/python2.7/dist-packages/theano/tensor/signal/pool.pyc\u001b[0m in \u001b[0;36mperform\u001b[0;34m(self, node, inp, out)\u001b[0m\n\u001b[1;32m    824\u001b[0m     \u001b[0;32mdef\u001b[0m \u001b[0mperform\u001b[0m\u001b[0;34m(\u001b[0m\u001b[0mself\u001b[0m\u001b[0;34m,\u001b[0m \u001b[0mnode\u001b[0m\u001b[0;34m,\u001b[0m \u001b[0minp\u001b[0m\u001b[0;34m,\u001b[0m \u001b[0mout\u001b[0m\u001b[0;34m)\u001b[0m\u001b[0;34m:\u001b[0m\u001b[0;34m\u001b[0m\u001b[0m\n\u001b[1;32m    825\u001b[0m         \u001b[0;32mif\u001b[0m \u001b[0mself\u001b[0m\u001b[0;34m.\u001b[0m\u001b[0mmode\u001b[0m \u001b[0;34m==\u001b[0m \u001b[0;34m'average_exc_pad'\u001b[0m \u001b[0;32mand\u001b[0m \u001b[0mself\u001b[0m\u001b[0;34m.\u001b[0m\u001b[0mpadding\u001b[0m \u001b[0;34m!=\u001b[0m \u001b[0;34m(\u001b[0m\u001b[0;36m0\u001b[0m\u001b[0;34m,\u001b[0m \u001b[0;36m0\u001b[0m\u001b[0;34m)\u001b[0m\u001b[0;34m:\u001b[0m\u001b[0;34m\u001b[0m\u001b[0m\n\u001b[0;32m--> 826\u001b[0;31m             \u001b[0;32mraise\u001b[0m \u001b[0mNotImplementedError\u001b[0m\u001b[0;34m(\u001b[0m\u001b[0;34m)\u001b[0m\u001b[0;34m\u001b[0m\u001b[0m\n\u001b[0m\u001b[1;32m    827\u001b[0m         \u001b[0mx\u001b[0m\u001b[0;34m,\u001b[0m \u001b[0mgz\u001b[0m \u001b[0;34m=\u001b[0m \u001b[0minp\u001b[0m\u001b[0;34m\u001b[0m\u001b[0m\n\u001b[1;32m    828\u001b[0m         \u001b[0mgx_stg\u001b[0m\u001b[0;34m,\u001b[0m \u001b[0;34m=\u001b[0m \u001b[0mout\u001b[0m\u001b[0;34m\u001b[0m\u001b[0m\n",
      "\u001b[0;31mNotImplementedError\u001b[0m: \nApply node that caused the error: AveragePoolGrad{ds=(3, 3), ignore_border=True, st=(1, 1), padding=(1, 1), mode='average_exc_pad'}(Elemwise{Composite{Switch(i0, ((i1 * i2) + i3), ((i4 * i5) + i3))}}.0, IncSubtensor{InplaceInc;::, ::, :int64:, :int64:}.0)\nToposort index: 1106\nInputs types: [TensorType(float32, 4D), TensorType(float32, 4D)]\nInputs shapes: [(32, 512, 1, 1), (32, 512, 1, 1)]\nInputs strides: [(2048, 4, 4, 4), (2048, 4, 4, 4)]\nInputs values: ['not shown', 'not shown']\nOutputs clients: [[Elemwise{Add}[(0, 0)](CorrMM_gradInputs{half, (1, 1)}.0, CorrMM_gradInputs{half, (1, 1)}.0, AveragePoolGrad{ds=(3, 3), ignore_border=True, st=(1, 1), padding=(1, 1), mode='average_exc_pad'}.0, Split{2}.0, CorrMM_gradInputs{half, (1, 1)}.0)]]\n\nBacktrace when the node is created(use Theano flag traceback.limit=N to make it longer):\n  File \"/usr/local/lib/python2.7/dist-packages/theano/gradient.py\", line 1279, in access_grad_cache\n    term = access_term_cache(node)[idx]\n  File \"/usr/local/lib/python2.7/dist-packages/theano/gradient.py\", line 973, in access_term_cache\n    output_grads = [access_grad_cache(var) for var in node.outputs]\n  File \"/usr/local/lib/python2.7/dist-packages/theano/gradient.py\", line 1279, in access_grad_cache\n    term = access_term_cache(node)[idx]\n  File \"/usr/local/lib/python2.7/dist-packages/theano/gradient.py\", line 973, in access_term_cache\n    output_grads = [access_grad_cache(var) for var in node.outputs]\n  File \"/usr/local/lib/python2.7/dist-packages/theano/gradient.py\", line 1279, in access_grad_cache\n    term = access_term_cache(node)[idx]\n  File \"/usr/local/lib/python2.7/dist-packages/theano/gradient.py\", line 973, in access_term_cache\n    output_grads = [access_grad_cache(var) for var in node.outputs]\n  File \"/usr/local/lib/python2.7/dist-packages/theano/gradient.py\", line 1279, in access_grad_cache\n    term = access_term_cache(node)[idx]\n  File \"/usr/local/lib/python2.7/dist-packages/theano/gradient.py\", line 1113, in access_term_cache\n    input_grads = node.op.grad(inputs, new_output_grads)\n\nHINT: Use the Theano flag 'exception_verbosity=high' for a debugprint and storage map footprint of this apply node."
     ],
     "output_type": "error"
    }
   ],
   "source": [
    "resnet_model.fit(X_train, y_train, nb_epoch=100, callbacks=callbacks)                   \n",
    "resnet_model.save(\"../cifar.h5\")"
   ]
  },
  {
   "cell_type": "code",
   "execution_count": null,
   "metadata": {
    "collapsed": false
   },
   "outputs": [],
   "source": [
    "scores = resnet_model.evaluate(X_test, y_test, batch_size=32, verbose=0)\n",
    "print('Test score:', scores[0])\n",
    "print('Test accuracy:', scores[1])"
   ]
  },
  {
   "cell_type": "markdown",
   "metadata": {},
   "source": [
    "# =============================================================="
   ]
  },
  {
   "cell_type": "code",
   "execution_count": null,
   "metadata": {
    "collapsed": true
   },
   "outputs": [
    {
     "name": "stdout",
     "output_type": "stream",
     "text": [
      "Epoch 1/1\n",
      "35126/35126 [==============================] - 737s - loss: 13.2500 - acc: 0.2421   \n",
      "True\n",
      "continue..\n",
      "Epoch 1/1\n",
      "35126/35126 [==============================] - 735s - loss: 12.5838 - acc: 0.2363   \n",
      "True\n",
      "continue..\n",
      "Epoch 1/1\n",
      "35126/35126 [==============================] - 734s - loss: 11.9984 - acc: 0.2271   \n",
      "True\n",
      "continue..\n",
      "Epoch 1/1\n",
      "35126/35126 [==============================] - 735s - loss: 11.5875 - acc: 0.2230   \n",
      "True\n",
      "continue..\n",
      "Epoch 1/1\n",
      "35126/35126 [==============================] - 735s - loss: 11.3487 - acc: 0.2225   \n",
      "True\n",
      "continue..\n",
      "Epoch 1/1\n",
      " 2368/35126 [=>............................] - ETA: 655s - loss: 11.1829 - acc: 0.2158"
     ]
    }
   ],
   "source": [
    "callbacks = [\n",
    "    EarlyStopping(monitor='loss', patience=5, verbose=0),\n",
    "    ModelCheckpoint(filepath=\"result/v2_rotate_00001_momentum_decay_extreme.hdf5\", monitor='loss', verbose=0, save_best_only=True, save_weights_only=False)\n",
    "]\n",
    "\n",
    "for i in range(0, 100) :\n",
    "    for degree in range(0, 360, 36) :\n",
    "        X_train = rotate_dataset(X_train, degree)\n",
    "        resnet_model.fit(X_train, y_train, nb_epoch=1, class_weight={0:2, 1:15, 2:7, 3:41, 4:50}, callbacks=callbacks)\n",
    "#         resnet_model.fit(X_train, y_train, nb_epoch=1, class_weight={0:1, 1:5, 2:7, 3:20, 4:50}, callbacks=callbacks)\n",
    "                \n",
    "#         result = resnet_model.predict(X_test, batch_size=32, verbose=0)\n",
    "#         predict_classes, expected_classes = get_predicted_classes(result, y_test)\n",
    "#         print(sklearn.metrics.confusion_matrix(expected_classes, predict_classes))\n",
    "\n",
    "        if not_continue_epoch() :\n",
    "            print(\"continue..\")\n",
    "        else :\n",
    "            print(\"break\")\n",
    "            break\n",
    "            \n",
    "        \n",
    "#     scores = resnet_model.evaluate(X_test, y_test, batch_size=32, verbose=0)\n",
    "#     print('Test score:', scores[0])\n",
    "#     print('Test accuracy:', scores[1])\n",
    "#     result = resnet_model.predict(X_test, batch_size=32, verbose=0)\n",
    "#     predict_classes, expected_classes = get_predicted_classes(result, y_test)\n",
    "#     print(\"auc score \" + str(sklearn.metrics.auc(expected_classes, predict_classes)))\n",
    "#     print(\"f1 score \" + str(sklearn.metrics.f1_score(expected_classes, predict_classes, average=None)))\n",
    "#     print(\"recall score \" + str(sklearn.metrics.recall_score(expected_classes, predict_classes, average=None)))\n",
    "#     print(\"precision score \" + str(sklearn.metrics.precision_score(expected_classes, predict_classes, average=None)))\n",
    "#     print(\"cohen kappa score \" + str(sklearn.metrics.cohen_kappa_score(expected_classes, predict_classes)))\n",
    "    resnet_model.save(\"v2_rotate_00001_momentum_decay_extreme.h5\")"
   ]
  }
 ],
 "metadata": {
  "kernelspec": {
   "display_name": "Python 2",
   "language": "python",
   "name": "python2"
  },
  "language_info": {
   "codemirror_mode": {
    "name": "ipython",
    "version": 2.0
   },
   "file_extension": ".py",
   "mimetype": "text/x-python",
   "name": "python",
   "nbconvert_exporter": "python",
   "pygments_lexer": "ipython2",
   "version": "2.7.6"
  }
 },
 "nbformat": 4,
 "nbformat_minor": 0
}